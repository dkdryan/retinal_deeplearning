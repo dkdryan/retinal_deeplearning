{
 "cells": [
  {
   "cell_type": "code",
   "execution_count": null,
   "metadata": {
    "id": "88cY2jOYjpqy"
   },
   "outputs": [],
   "source": [
    "###Autokeras Image Classification \n",
    "###David Ryan \n",
    "###20th December 2020"
   ]
  },
  {
   "cell_type": "code",
   "execution_count": null,
   "metadata": {
    "id": "WYIS-X3HjvSm"
   },
   "outputs": [],
   "source": [
    "!pip install autokeras\n",
    "import numpy as np\n",
    "import pandas as pd\n",
    "import autokeras as ak\n",
    "import tensorflow as tf"
   ]
  },
  {
   "cell_type": "code",
   "execution_count": null,
   "metadata": {
    "colab": {
     "base_uri": "https://localhost:8080/"
    },
    "id": "ud4wfLyTjy0V",
    "outputId": "0666d350-d7aa-4616-f5e3-cf825e72813a"
   },
   "outputs": [],
   "source": [
    "#get access to google drive\n",
    "from google.colab import drive\n",
    "drive.mount('/content/gdrive/')"
   ]
  },
  {
   "cell_type": "code",
   "execution_count": null,
   "metadata": {
    "id": "K3AVs1qBxWki"
   },
   "outputs": [],
   "source": [
    "# Load images for modelling "
   ]
  },
  {
   "cell_type": "code",
   "execution_count": null,
   "metadata": {
    "colab": {
     "base_uri": "https://localhost:8080/"
    },
    "id": "1NwHSo8pprFC",
    "outputId": "b10816a3-af98-4b36-c977-e9d73facaccf"
   },
   "outputs": [],
   "source": [
    "train_data = ak.image_dataset_from_directory(\n",
    "    '/content/gdrive/My Drive/messidor_classification/train/',\n",
    "    # Use 20% data as testing data.\n",
    "    validation_split=0,\n",
    "    subset=\"training\",\n",
    "    # Set seed to ensure the same split when loading testing data.\n",
    "    seed=123,\n",
    "    image_size=(150, 150),\n",
    "    batch_size=32)"
   ]
  },
  {
   "cell_type": "code",
   "execution_count": null,
   "metadata": {
    "colab": {
     "base_uri": "https://localhost:8080/"
    },
    "id": "Cv8So5DrprHW",
    "outputId": "18f20f15-7bf7-46a1-dcba-c65223fa8f1b"
   },
   "outputs": [],
   "source": [
    "test_data = ak.image_dataset_from_directory(\n",
    "    '/content/gdrive/My Drive/messidor_classification/test/',\n",
    "    seed=123,\n",
    "    image_size=(150, 150),\n",
    "    batch_size=32)"
   ]
  },
  {
   "cell_type": "code",
   "execution_count": null,
   "metadata": {
    "id": "gpUWrvpDsaHV"
   },
   "outputs": [],
   "source": [
    "# Early stopping criteria\n",
    "callback = tf.keras.callbacks.EarlyStopping(monitor='loss', patience=10)"
   ]
  },
  {
   "cell_type": "code",
   "execution_count": null,
   "metadata": {
    "colab": {
     "base_uri": "https://localhost:8080/"
    },
    "id": "AuDMRYoTprJ4",
    "outputId": "63195232-8c2e-4482-9ed9-f8176d2fb247"
   },
   "outputs": [],
   "source": [
    "# Instantiate and fit \n",
    "clf = ak.ImageClassifier(overwrite=True, max_trials=1)\n",
    "clf.fit(train_data, validation_split=0.1, callbacks=[callback])"
   ]
  },
  {
   "cell_type": "code",
   "execution_count": null,
   "metadata": {
    "colab": {
     "base_uri": "https://localhost:8080/",
     "height": 164
    },
    "id": "yjgSwvCdprO4",
    "outputId": "8019fc72-7203-489f-d75c-8d92d7cdcaaf"
   },
   "outputs": [],
   "source": [
    "#predict - this can be turned into a dataframe to compare with actual outcomes \n",
    "preds = clf.predict(test_data)"
   ]
  },
  {
   "cell_type": "code",
   "execution_count": null,
   "metadata": {
    "id": "kU0ZBI9lx5Kx"
   },
   "outputs": [],
   "source": [
    "#export\n",
    "model = clf.export_model()"
   ]
  },
  {
   "cell_type": "code",
   "execution_count": null,
   "metadata": {
    "colab": {
     "base_uri": "https://localhost:8080/"
    },
    "id": "trYy-yo_x5OV",
    "outputId": "4ad47ff2-fe03-404c-9785-1c6cb7dadee7"
   },
   "outputs": [],
   "source": [
    "#save model \n",
    "try:\n",
    "    model.save(\"model_autokeras\", save_format=\"tf\")\n",
    "except:\n",
    "    model.save(\"model_autokeras.h5\")"
   ]
  },
  {
   "cell_type": "code",
   "execution_count": null,
   "metadata": {
    "colab": {
     "base_uri": "https://localhost:8080/",
     "height": 164
    },
    "id": "Y7Tt09KszC71",
    "outputId": "e10685e3-bd68-4590-f898-5ef8c8a8eba3"
   },
   "outputs": [],
   "source": [
    "#reload model \n",
    "loaded_model = load_model(\"model_autokeras\", custom_objects=ak.CUSTOM_OBJECTS)"
   ]
  },
  {
   "cell_type": "code",
   "execution_count": null,
   "metadata": {
    "colab": {
     "base_uri": "https://localhost:8080/",
     "height": 164
    },
    "id": "iaIibkyPzEfs",
    "outputId": "fbf3c352-8dba-4998-94eb-afdaa1c26298"
   },
   "outputs": [],
   "source": [
    "preds_test = loaded_model.predict(test_data)"
   ]
  },
  {
   "cell_type": "code",
   "execution_count": null,
   "metadata": {
    "id": "XLjqako1WKns"
   },
   "outputs": [],
   "source": [
    "#get original test data from csv file \n",
    "os.chdir('/content/gdrive/My Drive/')\n",
    "test = pd.read_csv('messidor_test_dataset.csv')"
   ]
  },
  {
   "cell_type": "code",
   "execution_count": null,
   "metadata": {
    "id": "gvwzgoC6prWD"
   },
   "outputs": [],
   "source": [
    "#create a new dataframe with outcomes and predictions \n",
    "prediction_df = pd.DataFrame(result_list)\n",
    "prediction_df.columns = ['prediction']\n",
    "prediction_df['actual'] = test['refer']"
   ]
  },
  {
   "cell_type": "code",
   "execution_count": null,
   "metadata": {
    "colab": {
     "base_uri": "https://localhost:8080/",
     "height": 204
    },
    "id": "dkKFJAC7UFcu",
    "outputId": "9fbf5f0c-d2ef-417b-a299-5f2f280ef1d8"
   },
   "outputs": [],
   "source": [
    "prediction_df.head()"
   ]
  },
  {
   "cell_type": "code",
   "execution_count": null,
   "metadata": {
    "id": "hKl_LVrfS_bI"
   },
   "outputs": [],
   "source": [
    "#evaluation metrics \n",
    "from sklearn.metrics import accuracy_score\n",
    "from sklearn.metrics import precision_score\n",
    "from sklearn.metrics import recall_score"
   ]
  },
  {
   "cell_type": "code",
   "execution_count": null,
   "metadata": {
    "colab": {
     "base_uri": "https://localhost:8080/"
    },
    "id": "EGF8B18hQS3v",
    "outputId": "6671315f-031f-4782-9487-421079fdf303"
   },
   "outputs": [],
   "source": [
    "accuracy_score(prediction_df['prediction'], prediction_df['actual'])"
   ]
  },
  {
   "cell_type": "code",
   "execution_count": null,
   "metadata": {
    "colab": {
     "base_uri": "https://localhost:8080/"
    },
    "id": "H5hYIKGveuqb",
    "outputId": "c5ccacc7-31f8-4d53-986e-49d430db48fc"
   },
   "outputs": [],
   "source": [
    "precision_score(prediction_df['prediction'], prediction_df['actual'])"
   ]
  },
  {
   "cell_type": "code",
   "execution_count": null,
   "metadata": {
    "colab": {
     "base_uri": "https://localhost:8080/"
    },
    "id": "ZW9rcei2ev6x",
    "outputId": "650c3e07-36ce-46e6-e2e6-7748fdf2837a"
   },
   "outputs": [],
   "source": [
    "recall_score(prediction_df['prediction'], prediction_df['actual'])"
   ]
  },
  {
   "cell_type": "code",
   "execution_count": null,
   "metadata": {
    "colab": {
     "base_uri": "https://localhost:8080/",
     "height": 164
    },
    "id": "9AUf2GcViJcg",
    "outputId": "521e8bf4-45bb-4362-abef-e24ded53de67"
   },
   "outputs": [],
   "source": [
    "print(clf.evaluate())"
   ]
  }
 ],
 "metadata": {
  "colab": {
   "name": "image_classification_messidor",
   "provenance": []
  },
  "kernelspec": {
   "display_name": "Python 3",
   "language": "python",
   "name": "python3"
  },
  "language_info": {
   "codemirror_mode": {
    "name": "ipython",
    "version": 3
   },
   "file_extension": ".py",
   "mimetype": "text/x-python",
   "name": "python",
   "nbconvert_exporter": "python",
   "pygments_lexer": "ipython3",
   "version": "3.7.4"
  }
 },
 "nbformat": 4,
 "nbformat_minor": 1
}
