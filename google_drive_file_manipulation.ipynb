{
 "cells": [
  {
   "cell_type": "markdown",
   "metadata": {},
   "source": [
    "# How to programatically rearrange files in google drive "
   ]
  },
  {
   "cell_type": "code",
   "execution_count": null,
   "metadata": {},
   "outputs": [],
   "source": [
    "!pip install autokeras\n",
    "import numpy as np\n",
    "import pandas as pd\n",
    "import autokeras as ak\n",
    "import tensorflow as tf\n",
    "import os\n",
    "import shutil\n",
    "from PIL import Image "
   ]
  },
  {
   "cell_type": "code",
   "execution_count": null,
   "metadata": {},
   "outputs": [],
   "source": [
    "#get access to google drive\n",
    "from google.colab import drive\n",
    "drive.mount('/content/gdrive/')"
   ]
  },
  {
   "cell_type": "markdown",
   "metadata": {},
   "source": [
    "Images are available in messidor_images folder  \n",
    "Download the csv file and this contains the image name and label "
   ]
  },
  {
   "cell_type": "code",
   "execution_count": null,
   "metadata": {},
   "outputs": [],
   "source": [
    "#load in the meta-data (original)\n",
    "train = pd.read_csv(\"/content/gdrive/My Drive/copy_messidor_train.csv\")\n",
    "test = pd.read_csv(\"/content/gdrive/My Drive/copy_messidor_test.csv\")\n",
    "train.set_index(\"Image name\", inplace=True)\n",
    "test.set_index(\"Image name\", inplace=True)\n",
    "test.drop(columns=['Unnamed: 0'], inplace=True)\n",
    "train.drop(columns=['Unnamed: 0'], inplace=True)"
   ]
  },
  {
   "cell_type": "markdown",
   "metadata": {},
   "source": [
    "Create target folder in google drive (in this instance, messidor_classification. Within this folder, create two further folders for test and train. "
   ]
  },
  {
   "cell_type": "code",
   "execution_count": null,
   "metadata": {},
   "outputs": [],
   "source": [
    "#list the contents of the new folder \n",
    "os.chdir(\"/content/gdrive/My Drive/messidor_classification\")\n",
    "!ls \"/content/gdrive/My Drive/messidor_classification/\""
   ]
  },
  {
   "cell_type": "code",
   "execution_count": null,
   "metadata": {},
   "outputs": [],
   "source": [
    "#copy images to test and train folder \n",
    "os.chdir(\"/content/gdrive/My Drive/messidor_images\")\n",
    "\n",
    "\n",
    "for image in os.listdir(): \n",
    "  if image in train.index: \n",
    "    shutil.copy(f\"/content/gdrive/My Drive/messidor_images/{image}\", \"/content/gdrive/My Drive/messidor_classification/train\")\n",
    "  elif image in test.index: \n",
    "    shutil.copy(f\"/content/gdrive/My Drive/messidor_images/{image}\", \"/content/gdrive/My Drive/messidor_classification/test\")\n",
    "  else: \n",
    "    pass "
   ]
  },
  {
   "cell_type": "code",
   "execution_count": null,
   "metadata": {},
   "outputs": [],
   "source": [
    "#convert to jpg \n",
    "os.chdir(\"/content/gdrive/My Drive/messidor_classification/train/\")\n",
    "\n",
    "for image in os.listdir():\n",
    "  if '.tif' in image: \n",
    "    im = Image.open(f\"/content/gdrive/My Drive/messidor_classification/train/{image}\")\n",
    "    im.save(f'{image}.jpg')\n",
    "  else: \n",
    "    pass"
   ]
  },
  {
   "cell_type": "code",
   "execution_count": null,
   "metadata": {},
   "outputs": [],
   "source": [
    "os.chdir(\"/content/gdrive/My Drive/messidor_classification/test/\")\n",
    "\n",
    "for image in os.listdir():\n",
    "  if '.tif' in image: \n",
    "    im = Image.open(f\"/content/gdrive/My Drive/messidor_classification/test/{image}\")\n",
    "    im.save(f'{image}.jpg')\n",
    "  else: \n",
    "    pass"
   ]
  },
  {
   "cell_type": "code",
   "execution_count": null,
   "metadata": {},
   "outputs": [],
   "source": [
    "#remove duplicates\n",
    "os.chdir(\"/content/gdrive/My Drive/messidor_classification/test\")\n",
    "\n",
    "for image in os.listdir():\n",
    "  if image[-3:] == 'tif':\n",
    "    os.remove(image)\n",
    "  else: \n",
    "    pass"
   ]
  },
  {
   "cell_type": "code",
   "execution_count": null,
   "metadata": {},
   "outputs": [],
   "source": [
    "#remove duplicates\n",
    "os.chdir(\"/content/gdrive/My Drive/messidor_classification/train\")\n",
    "\n",
    "for image in os.listdir():\n",
    "  if image[-3:] == 'tif':\n",
    "    os.remove(image)\n",
    "  else: \n",
    "    pass"
   ]
  },
  {
   "cell_type": "markdown",
   "metadata": {},
   "source": [
    "Note: keras requires all images to have either .png or .jpg in file name to be recognised as an image!    \n",
    "Therefore need to rename both the image and the corresponding image name in the csv file"
   ]
  },
  {
   "cell_type": "code",
   "execution_count": null,
   "metadata": {},
   "outputs": [],
   "source": [
    "#rename the images and the corresponding record in the csv file \n",
    "os.chdir(\"/content/gdrive/My Drive/messidor_images\")\n",
    "\n",
    "for image in enumerate(os.listdir()): \n",
    "  if image[1] in train.index: \n",
    "    train.rename(index={image[1]: f\"training_image{image[0]}\"}, inplace=True)\n",
    "    os.rename(f\"/content/gdrive/My Drive/messidor_classification/train/{image[1]}.jpg\", f\"/content/gdrive/My Drive/messidor_classification/train/training_image{image[0]}.jpg\")\n"
   ]
  },
  {
   "cell_type": "code",
   "execution_count": null,
   "metadata": {},
   "outputs": [],
   "source": [
    "os.chdir(\"/content/gdrive/My Drive/messidor_images\")\n",
    "\n",
    "for image in enumerate(os.listdir()): \n",
    "  if image[1] in test.index: \n",
    "    test.rename(index={image[1]: f\"test_image{image[0]}\"}, inplace=True)\n",
    "    os.rename(f\"/content/gdrive/My Drive/messidor_classification/test/{image[1]}.jpg\", f\"/content/gdrive/My Drive/messidor_classification/test/test_image{image[0]}.jpg\")\n"
   ]
  },
  {
   "cell_type": "code",
   "execution_count": null,
   "metadata": {},
   "outputs": [],
   "source": [
    "#save the new csv files \n",
    "test.to_csv('messidor_test_dataset.csv')\n",
    "train.to_csv('messidor_train_dateset.csv')"
   ]
  },
  {
   "cell_type": "markdown",
   "metadata": {},
   "source": [
    "Create folders for referrable and non-referrable diabetic retinopathy"
   ]
  },
  {
   "cell_type": "code",
   "execution_count": null,
   "metadata": {},
   "outputs": [],
   "source": [
    "#transfer images into referable vs non-referable \n",
    "os.chdir(\"/content/gdrive/My Drive/messidor_classification/train\")\n",
    "\n",
    "for image in os.listdir(): \n",
    "  if 'training' in image: \n",
    "    if image in train[train['refer']==1].index + '.jpg': \n",
    "      shutil.move(f\"/content/gdrive/My Drive/messidor_classification/train/{image}\", \"/content/gdrive/My Drive/messidor_classification/train/refer\")\n",
    "    elif image in train[train['refer']==0].index + '.jpg': \n",
    "      shutil.move(f\"/content/gdrive/My Drive/messidor_classification/train/{image}\", \"/content/gdrive/My Drive/messidor_classification/train/non_refer\")\n",
    "  "
   ]
  },
  {
   "cell_type": "code",
   "execution_count": null,
   "metadata": {},
   "outputs": [],
   "source": [
    "#transfer images into referable vs non-referable \n",
    "os.chdir(\"/content/gdrive/My Drive/messidor_classification/test\")\n",
    "\n",
    "for image in os.listdir(): \n",
    "  if 'test' in image: \n",
    "    if image in test[test['refer']==1].index + '.jpg': \n",
    "      shutil.move(f\"/content/gdrive/My Drive/messidor_classification/test/{image}\", \"/content/gdrive/My Drive/messidor_classification/test/refer\")\n",
    "    elif image in test[test['refer']==0].index + '.jpg': \n",
    "      shutil.move(f\"/content/gdrive/My Drive/messidor_classification/test/{image}\", \"/content/gdrive/My Drive/messidor_classification/test/non_refer\")\n",
    "  "
   ]
  },
  {
   "cell_type": "code",
   "execution_count": null,
   "metadata": {},
   "outputs": [],
   "source": [
    "#count files in a folder \n",
    "os.chdir(\"/content/gdrive/My Drive/messidor_classification/test/non_refer\")\n",
    "count = 0\n",
    "for image in os.listdir(): \n",
    "  count+=1\n",
    "\n",
    "print(count)"
   ]
  }
 ],
 "metadata": {
  "kernelspec": {
   "display_name": "Python 3",
   "language": "python",
   "name": "python3"
  },
  "language_info": {
   "codemirror_mode": {
    "name": "ipython",
    "version": 3
   },
   "file_extension": ".py",
   "mimetype": "text/x-python",
   "name": "python",
   "nbconvert_exporter": "python",
   "pygments_lexer": "ipython3",
   "version": "3.7.4"
  }
 },
 "nbformat": 4,
 "nbformat_minor": 4
}
