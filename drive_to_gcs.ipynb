{
  "nbformat": 4,
  "nbformat_minor": 0,
  "metadata": {
    "colab": {
      "name": "drive_to_gcs.ipynb",
      "provenance": []
    },
    "kernelspec": {
      "name": "python3",
      "display_name": "Python 3"
    }
  },
  "cells": [
    {
      "cell_type": "markdown",
      "metadata": {
        "id": "qRA7I3jmdalY"
      },
      "source": [
        "# Google Cloud Storage \n",
        "\n",
        "David K Ryan "
      ]
    },
    {
      "cell_type": "markdown",
      "metadata": {
        "id": "CGYuFYXKc3M-"
      },
      "source": [
        "This notebook contains details on how to upload data from google drive to google cloud storage. \n",
        "\n",
        "Note zip files are the best option to upload data from local computer to google drive \n",
        "\n",
        "Instructions: \n",
        "\n",
        "\n",
        "1.   Mount the notebook on google drive \n",
        "2.   Authenticate access to google cloud platform and set project id \n",
        "3.   Read the buckets available in the project (these can be created in GCP) \n",
        "4.   Copy files from google drive to google cloud storage bucket \n",
        "\n"
      ]
    },
    {
      "cell_type": "code",
      "metadata": {
        "colab": {
          "base_uri": "https://localhost:8080/"
        },
        "id": "DzESiLjG9uq1",
        "outputId": "805104cf-12c5-452c-daf5-304cdd5f86e3"
      },
      "source": [
        "#get access to google drive\n",
        "from google.colab import drive\n",
        "drive.mount('/content/gdrive/')"
      ],
      "execution_count": 1,
      "outputs": [
        {
          "output_type": "stream",
          "text": [
            "Mounted at /content/gdrive/\n"
          ],
          "name": "stdout"
        }
      ]
    },
    {
      "cell_type": "code",
      "metadata": {
        "id": "KSuui9FrdgNi"
      },
      "source": [
        "#TODO\n",
        "PROJECT_ID = \"\" #insert project id here \n"
      ],
      "execution_count": null,
      "outputs": []
    },
    {
      "cell_type": "code",
      "metadata": {
        "id": "Z0Se3QFw9v7F"
      },
      "source": [
        "#authenticate access to GCP \n",
        "from google.colab import auth\n",
        "auth.authenticate_user()"
      ],
      "execution_count": null,
      "outputs": []
    },
    {
      "cell_type": "code",
      "metadata": {
        "id": "YcnDURo7dsdO"
      },
      "source": [
        "#set project ID \n",
        "!gcloud config set project PROJECT_ID"
      ],
      "execution_count": null,
      "outputs": []
    },
    {
      "cell_type": "code",
      "metadata": {
        "id": "-2os0sTVdvp_"
      },
      "source": [
        "#read available buckets \n",
        "!gsutil ls"
      ],
      "execution_count": null,
      "outputs": []
    },
    {
      "cell_type": "code",
      "metadata": {
        "colab": {
          "base_uri": "https://localhost:8080/"
        },
        "id": "xkCDW_rv-433",
        "outputId": "2f7e1db9-f445-4b5d-9128-8add432dfe52"
      },
      "source": [
        "#read files in the google drive \n",
        "!ls \"/content/gdrive/My Drive/messidor_train_29_dec/\""
      ],
      "execution_count": null,
      "outputs": [
        {
          "output_type": "stream",
          "text": [
            "test  train\n"
          ],
          "name": "stdout"
        }
      ]
    },
    {
      "cell_type": "code",
      "metadata": {
        "colab": {
          "base_uri": "https://localhost:8080/"
        },
        "id": "jiL4OXXV9zwO",
        "outputId": "98b507b5-bd6a-4275-dfe8-6be77db62e08"
      },
      "source": [
        "#copy files from google drive to bucket \n",
        "!gsutil -m cp -r \"/content/gdrive/My Drive/messidor_test_29_dec/\"* gs://{\"messidor-test\"}/"
      ],
      "execution_count": 3,
      "outputs": [
        {
          "output_type": "stream",
          "text": [
            "Copying file:///content/gdrive/My Drive/messidor_test_29_dec/test_image113.jpg [Content-Type=image/jpeg]...\n",
            "/ [0 files][    0.0 B/139.2 KiB]                                                \rCopying file:///content/gdrive/My Drive/messidor_test_29_dec/test_image116.jpg [Content-Type=image/jpeg]...\n",
            "/ [0 files][    0.0 B/312.6 KiB]                                                \rCopying file:///content/gdrive/My Drive/messidor_test_29_dec/test_image124.jpg [Content-Type=image/jpeg]...\n",
            "/ [0 files][    0.0 B/480.4 KiB]                                                \rCopying file:///content/gdrive/My Drive/messidor_test_29_dec/test_image117.jpg [Content-Type=image/jpeg]...\n",
            "/ [0 files][    0.0 B/605.2 KiB]                                                \rCopying file:///content/gdrive/My Drive/messidor_test_29_dec/test_image130.jpg [Content-Type=image/jpeg]...\n",
            "Copying file:///content/gdrive/My Drive/messidor_test_29_dec/test_image118.jpg [Content-Type=image/jpeg]...\n",
            "/ [0 files][    0.0 B/731.0 KiB]                                                \r/ [0 files][    0.0 B/887.0 KiB]                                                \rCopying file:///content/gdrive/My Drive/messidor_test_29_dec/test_image133.jpg [Content-Type=image/jpeg]...\n",
            "Copying file:///content/gdrive/My Drive/messidor_test_29_dec/test_image123.jpg [Content-Type=image/jpeg]...\n",
            "/ [0 files][    0.0 B/  1.0 MiB]                                                \r/ [0 files][    0.0 B/  1.2 MiB]                                                \rCopying file:///content/gdrive/My Drive/messidor_test_29_dec/test_image137.jpg [Content-Type=image/jpeg]...\n",
            "Copying file:///content/gdrive/My Drive/messidor_test_29_dec/test_image139.jpg [Content-Type=image/jpeg]...\n",
            "Copying file:///content/gdrive/My Drive/messidor_test_29_dec/test_image14.jpg [Content-Type=image/jpeg]...\n",
            "Copying file:///content/gdrive/My Drive/messidor_test_29_dec/test_image150.jpg [Content-Type=image/jpeg]...\n",
            "Copying file:///content/gdrive/My Drive/messidor_test_29_dec/test_image169.jpg [Content-Type=image/jpeg]...\n",
            "Copying file:///content/gdrive/My Drive/messidor_test_29_dec/test_image183.jpg [Content-Type=image/jpeg]...\n",
            "Copying file:///content/gdrive/My Drive/messidor_test_29_dec/test_image191.jpg [Content-Type=image/jpeg]...\n",
            "Copying file:///content/gdrive/My Drive/messidor_test_29_dec/test_image234.jpg [Content-Type=image/jpeg]...\n",
            "Copying file:///content/gdrive/My Drive/messidor_test_29_dec/test_image236.jpg [Content-Type=image/jpeg]...\n",
            "Copying file:///content/gdrive/My Drive/messidor_test_29_dec/test_image240.jpg [Content-Type=image/jpeg]...\n",
            "Copying file:///content/gdrive/My Drive/messidor_test_29_dec/test_image254.jpg [Content-Type=image/jpeg]...\n",
            "Copying file:///content/gdrive/My Drive/messidor_test_29_dec/test_image272.jpg [Content-Type=image/jpeg]...\n",
            "Copying file:///content/gdrive/My Drive/messidor_test_29_dec/test_image273.jpg [Content-Type=image/jpeg]...\n",
            "Copying file:///content/gdrive/My Drive/messidor_test_29_dec/test_image274.jpg [Content-Type=image/jpeg]...\n",
            "Copying file:///content/gdrive/My Drive/messidor_test_29_dec/test_image285.jpg [Content-Type=image/jpeg]...\n",
            "Copying file:///content/gdrive/My Drive/messidor_test_29_dec/test_image287.jpg [Content-Type=image/jpeg]...\n",
            "Copying file:///content/gdrive/My Drive/messidor_test_29_dec/test_image291.jpg [Content-Type=image/jpeg]...\n",
            "Copying file:///content/gdrive/My Drive/messidor_test_29_dec/test_image293.jpg [Content-Type=image/jpeg]...\n",
            "Copying file:///content/gdrive/My Drive/messidor_test_29_dec/test_image308.jpg [Content-Type=image/jpeg]...\n",
            "Copying file:///content/gdrive/My Drive/messidor_test_29_dec/test_image309.jpg [Content-Type=image/jpeg]...\n",
            "Copying file:///content/gdrive/My Drive/messidor_test_29_dec/test_image315.jpg [Content-Type=image/jpeg]...\n",
            "Copying file:///content/gdrive/My Drive/messidor_test_29_dec/test_image317.jpg [Content-Type=image/jpeg]...\n",
            "Copying file:///content/gdrive/My Drive/messidor_test_29_dec/test_image325.jpg [Content-Type=image/jpeg]...\n",
            "Copying file:///content/gdrive/My Drive/messidor_test_29_dec/test_image327.jpg [Content-Type=image/jpeg]...\n",
            "Copying file:///content/gdrive/My Drive/messidor_test_29_dec/test_image333.jpg [Content-Type=image/jpeg]...\n",
            "Copying file:///content/gdrive/My Drive/messidor_test_29_dec/test_image349.jpg [Content-Type=image/jpeg]...\n",
            "Copying file:///content/gdrive/My Drive/messidor_test_29_dec/test_image34.jpg [Content-Type=image/jpeg]...\n",
            "Copying file:///content/gdrive/My Drive/messidor_test_29_dec/test_image352.jpg [Content-Type=image/jpeg]...\n",
            "Copying file:///content/gdrive/My Drive/messidor_test_29_dec/test_image361.jpg [Content-Type=image/jpeg]...\n",
            "Copying file:///content/gdrive/My Drive/messidor_test_29_dec/test_image362.jpg [Content-Type=image/jpeg]...\n",
            "Copying file:///content/gdrive/My Drive/messidor_test_29_dec/test_image369.jpg [Content-Type=image/jpeg]...\n",
            "Copying file:///content/gdrive/My Drive/messidor_test_29_dec/test_image381.jpg [Content-Type=image/jpeg]...\n",
            "Copying file:///content/gdrive/My Drive/messidor_test_29_dec/test_image398.jpg [Content-Type=image/jpeg]...\n",
            "Copying file:///content/gdrive/My Drive/messidor_test_29_dec/test_image39.jpg [Content-Type=image/jpeg]...\n",
            "Copying file:///content/gdrive/My Drive/messidor_test_29_dec/test_image407.jpg [Content-Type=image/jpeg]...\n",
            "Copying file:///content/gdrive/My Drive/messidor_test_29_dec/test_image413.jpg [Content-Type=image/jpeg]...\n",
            "Copying file:///content/gdrive/My Drive/messidor_test_29_dec/test_image421.jpg [Content-Type=image/jpeg]...\n",
            "Copying file:///content/gdrive/My Drive/messidor_test_29_dec/test_image432.jpg [Content-Type=image/jpeg]...\n",
            "Copying file:///content/gdrive/My Drive/messidor_test_29_dec/test_image434.jpg [Content-Type=image/jpeg]...\n",
            "Copying file:///content/gdrive/My Drive/messidor_test_29_dec/test_image439.jpg [Content-Type=image/jpeg]...\n",
            "Copying file:///content/gdrive/My Drive/messidor_test_29_dec/test_image447.jpg [Content-Type=image/jpeg]...\n",
            "Copying file:///content/gdrive/My Drive/messidor_test_29_dec/test_image456.jpg [Content-Type=image/jpeg]...\n",
            "Copying file:///content/gdrive/My Drive/messidor_test_29_dec/test_image458.jpg [Content-Type=image/jpeg]...\n",
            "Copying file:///content/gdrive/My Drive/messidor_test_29_dec/test_image471.jpg [Content-Type=image/jpeg]...\n",
            "Copying file:///content/gdrive/My Drive/messidor_test_29_dec/test_image497.jpg [Content-Type=image/jpeg]...\n",
            "Copying file:///content/gdrive/My Drive/messidor_test_29_dec/test_image502.jpg [Content-Type=image/jpeg]...\n",
            "Copying file:///content/gdrive/My Drive/messidor_test_29_dec/test_image509.jpg [Content-Type=image/jpeg]...\n",
            "Copying file:///content/gdrive/My Drive/messidor_test_29_dec/test_image512.jpg [Content-Type=image/jpeg]...\n",
            "Copying file:///content/gdrive/My Drive/messidor_test_29_dec/test_image519.jpg [Content-Type=image/jpeg]...\n",
            "Copying file:///content/gdrive/My Drive/messidor_test_29_dec/test_image522.jpg [Content-Type=image/jpeg]...\n",
            "Copying file:///content/gdrive/My Drive/messidor_test_29_dec/test_image526.jpg [Content-Type=image/jpeg]...\n",
            "Copying file:///content/gdrive/My Drive/messidor_test_29_dec/test_image533.jpg [Content-Type=image/jpeg]...\n",
            "Copying file:///content/gdrive/My Drive/messidor_test_29_dec/test_image534.jpg [Content-Type=image/jpeg]...\n",
            "Copying file:///content/gdrive/My Drive/messidor_test_29_dec/test_image53.jpg [Content-Type=image/jpeg]...\n",
            "Copying file:///content/gdrive/My Drive/messidor_test_29_dec/test_image553.jpg [Content-Type=image/jpeg]...\n",
            "Copying file:///content/gdrive/My Drive/messidor_test_29_dec/test_image55.jpg [Content-Type=image/jpeg]...\n",
            "Copying file:///content/gdrive/My Drive/messidor_test_29_dec/test_image56.jpg [Content-Type=image/jpeg]...\n",
            "Copying file:///content/gdrive/My Drive/messidor_test_29_dec/test_image573.jpg [Content-Type=image/jpeg]...\n",
            "Copying file:///content/gdrive/My Drive/messidor_test_29_dec/test_image578.jpg [Content-Type=image/jpeg]...\n",
            "Copying file:///content/gdrive/My Drive/messidor_test_29_dec/test_image581.jpg [Content-Type=image/jpeg]...\n",
            "Copying file:///content/gdrive/My Drive/messidor_test_29_dec/test_image582.jpg [Content-Type=image/jpeg]...\n",
            "Copying file:///content/gdrive/My Drive/messidor_test_29_dec/test_image587.jpg [Content-Type=image/jpeg]...\n",
            "Copying file:///content/gdrive/My Drive/messidor_test_29_dec/test_image588.jpg [Content-Type=image/jpeg]...\n",
            "Copying file:///content/gdrive/My Drive/messidor_test_29_dec/test_image58.jpg [Content-Type=image/jpeg]...\n",
            "Copying file:///content/gdrive/My Drive/messidor_test_29_dec/test_image597.jpg [Content-Type=image/jpeg]...\n",
            "Copying file:///content/gdrive/My Drive/messidor_test_29_dec/test_image598.jpg [Content-Type=image/jpeg]...\n",
            "Copying file:///content/gdrive/My Drive/messidor_test_29_dec/test_image601.jpg [Content-Type=image/jpeg]...\n",
            "Copying file:///content/gdrive/My Drive/messidor_test_29_dec/test_image602.jpg [Content-Type=image/jpeg]...\n",
            "Copying file:///content/gdrive/My Drive/messidor_test_29_dec/test_image619.jpg [Content-Type=image/jpeg]...\n",
            "Copying file:///content/gdrive/My Drive/messidor_test_29_dec/test_image62.jpg [Content-Type=image/jpeg]...\n",
            "Copying file:///content/gdrive/My Drive/messidor_test_29_dec/test_image641.jpg [Content-Type=image/jpeg]...\n",
            "Copying file:///content/gdrive/My Drive/messidor_test_29_dec/test_image645.jpg [Content-Type=image/jpeg]...\n",
            "Copying file:///content/gdrive/My Drive/messidor_test_29_dec/test_image659.jpg [Content-Type=image/jpeg]...\n",
            "Copying file:///content/gdrive/My Drive/messidor_test_29_dec/test_image669.jpg [Content-Type=image/jpeg]...\n",
            "Copying file:///content/gdrive/My Drive/messidor_test_29_dec/test_image66.jpg [Content-Type=image/jpeg]...\n",
            "Copying file:///content/gdrive/My Drive/messidor_test_29_dec/test_image673.jpg [Content-Type=image/jpeg]...\n",
            "Copying file:///content/gdrive/My Drive/messidor_test_29_dec/test_image708.jpg [Content-Type=image/jpeg]...\n",
            "Copying file:///content/gdrive/My Drive/messidor_test_29_dec/test_image716.jpg [Content-Type=image/jpeg]...\n",
            "Copying file:///content/gdrive/My Drive/messidor_test_29_dec/test_image71.jpg [Content-Type=image/jpeg]...\n",
            "Copying file:///content/gdrive/My Drive/messidor_test_29_dec/test_image721.jpg [Content-Type=image/jpeg]...\n",
            "Copying file:///content/gdrive/My Drive/messidor_test_29_dec/test_image746.jpg [Content-Type=image/jpeg]...\n",
            "Copying file:///content/gdrive/My Drive/messidor_test_29_dec/test_image752.jpg [Content-Type=image/jpeg]...\n",
            "Copying file:///content/gdrive/My Drive/messidor_test_29_dec/test_image753.jpg [Content-Type=image/jpeg]...\n",
            "Copying file:///content/gdrive/My Drive/messidor_test_29_dec/test_image758.jpg [Content-Type=image/jpeg]...\n",
            "Copying file:///content/gdrive/My Drive/messidor_test_29_dec/test_image759.jpg [Content-Type=image/jpeg]...\n",
            "Copying file:///content/gdrive/My Drive/messidor_test_29_dec/test_image762.jpg [Content-Type=image/jpeg]...\n",
            "Copying file:///content/gdrive/My Drive/messidor_test_29_dec/test_image767.jpg [Content-Type=image/jpeg]...\n",
            "Copying file:///content/gdrive/My Drive/messidor_test_29_dec/test_image768.jpg [Content-Type=image/jpeg]...\n",
            "Copying file:///content/gdrive/My Drive/messidor_test_29_dec/test_image784.jpg [Content-Type=image/jpeg]...\n",
            "Copying file:///content/gdrive/My Drive/messidor_test_29_dec/test_image795.jpg [Content-Type=image/jpeg]...\n",
            "Copying file:///content/gdrive/My Drive/messidor_test_29_dec/test_image87.jpg [Content-Type=image/jpeg]...\n",
            "Copying file:///content/gdrive/My Drive/messidor_test_29_dec/test_image95.jpg [Content-Type=image/jpeg]...\n",
            "\\ [100/100 files][  9.2 MiB/  9.2 MiB] 100% Done                                \n",
            "Operation completed over 100 objects/9.2 MiB.                                    \n"
          ],
          "name": "stdout"
        }
      ]
    },
    {
      "cell_type": "code",
      "metadata": {
        "id": "BfC298eNcxR8"
      },
      "source": [
        ""
      ],
      "execution_count": null,
      "outputs": []
    }
  ]
}